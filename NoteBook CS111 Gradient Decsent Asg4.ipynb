{
 "cells": [
  {
   "cell_type": "code",
   "execution_count": null,
   "metadata": {
    "collapsed": true
   },
   "outputs": [],
   "source": [
    "import pandas as pd\n",
    "import numpy as np\n",
    "import matplotlib.pyplot as plt\n",
    "\n",
    "data = pd.read_csv(\"/Users/tomereldor/Google Drive/Academics (Tomer)/0-2017 Buenos Aires Sem2.2/CS111 Math/cs111-svm-dataset.csv\")\n",
    "old = data.plot(x='X1', y='X2', kind=\"scatter\", c='Classification', cmap='Spectral', colorbar=False, title='Classification of Given Data')\n",
    "plt.show()\n",
    "\n",
    "def dm1(x1, x2, y, m1, m2, b):\n",
    "    A = np.exp(-y * (m1 * x1 + m2 * x2 + b))\n",
    "    return np.mean(-y * x1 * A * (1 / (1 + A)))\n",
    "\n",
    "def dm2(x1, x2, y, m1, m2, b):\n",
    "    A = np.exp(-y * (m1 * x1 + m2 * x2 + b))\n",
    "    return np.mean(-y * x2 * A * (1 / (1 + A)))\n",
    "\n",
    "def db(x1, x2, y, m1, m2, b):\n",
    "    A = np.exp(-y * (m1 * x1 + m2 * x2 + b))\n",
    "    return np.mean(-y * A * (1 / (1 + A)))\n",
    "\n",
    "x1 = data['X1'].values\n",
    "x2 = data['X2'].values\n",
    "y = data['Classification'].values\n",
    "y[y == 0] = -1\n",
    "m1p, m2p, bp = 0, 0, 0 #empty value for iteration purpose\n",
    "m1, m2, b = 0.5, 0.5, 1 #init\n",
    "alpha = 0.1\n",
    "precision = 0.00001\n",
    "steps = 0\n",
    "\n",
    "hist_array = np.array([])\n",
    "while abs(m1 - m1p) > precision or abs(m2 - m2p) > precision or abs(b - bp) > precision:\n",
    "    m1p, m2p, bp = m1, m2, b\n",
    "    m1t = m1 - alpha * dm1(x1, x2, y, m1, m2, b)\n",
    "    m2t = m2 - alpha * dm2(x1, x2, y, m1, m2, b)\n",
    "    bt = b - alpha * db(x1, x2, y, m1, m2, b)\n",
    "    m1, m2, b = m1t, m2t, bt\n",
    "    steps += 1\n",
    "    hist_array = np.append(hist_array, ([m1, m2, b, steps]))\n",
    "\n",
    "\n",
    "def getx2_by_fx(x1, m1, m2, b):\n",
    "    #assume f(x1, x2) = 0\n",
    "    return (m1 * x1 + b) / -m2\n",
    "\n",
    "hypo_x1 = np.linspace(-30, 30, 20)\n",
    "line = getx2_by_fx(hypo_x1, m1, m2, b)\n",
    "plt.plot(hypo_x1, line)\n",
    "plt.scatter(x1, x2, c=y, cmap='gray')\n",
    "plt.title(\"SVM\")\n",
    "plt.xlabel(\"X1\")\n",
    "plt.ylabel(\"X2\")\n",
    "plt.show()"
   ]
  }
 ],
 "metadata": {
  "kernelspec": {
   "display_name": "Python 2",
   "language": "python",
   "name": "python2"
  },
  "language_info": {
   "codemirror_mode": {
    "name": "ipython",
    "version": 2.0
   },
   "file_extension": ".py",
   "mimetype": "text/x-python",
   "name": "python",
   "nbconvert_exporter": "python",
   "pygments_lexer": "ipython2",
   "version": "2.7.6"
  }
 },
 "nbformat": 4,
 "nbformat_minor": 0
}